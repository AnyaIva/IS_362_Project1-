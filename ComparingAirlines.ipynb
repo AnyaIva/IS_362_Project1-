{
 "cells": [
  {
   "cell_type": "code",
   "execution_count": 4,
   "id": "a20c3b8a",
   "metadata": {},
   "outputs": [
    {
     "data": {
      "text/html": [
       "<div>\n",
       "<style scoped>\n",
       "    .dataframe tbody tr th:only-of-type {\n",
       "        vertical-align: middle;\n",
       "    }\n",
       "\n",
       "    .dataframe tbody tr th {\n",
       "        vertical-align: top;\n",
       "    }\n",
       "\n",
       "    .dataframe thead th {\n",
       "        text-align: right;\n",
       "    }\n",
       "</style>\n",
       "<table border=\"1\" class=\"dataframe\">\n",
       "  <thead>\n",
       "    <tr style=\"text-align: right;\">\n",
       "      <th></th>\n",
       "      <th>Airline</th>\n",
       "      <th>Status</th>\n",
       "      <th>Los Angeles</th>\n",
       "      <th>Phoenix</th>\n",
       "      <th>San Diego</th>\n",
       "      <th>San Francisco</th>\n",
       "      <th>Seattle</th>\n",
       "    </tr>\n",
       "  </thead>\n",
       "  <tbody>\n",
       "    <tr>\n",
       "      <th>0</th>\n",
       "      <td>Alaska</td>\n",
       "      <td>on time</td>\n",
       "      <td>497</td>\n",
       "      <td>221</td>\n",
       "      <td>212</td>\n",
       "      <td>503</td>\n",
       "      <td>1841</td>\n",
       "    </tr>\n",
       "    <tr>\n",
       "      <th>1</th>\n",
       "      <td>Alaska</td>\n",
       "      <td>delayed</td>\n",
       "      <td>62</td>\n",
       "      <td>12</td>\n",
       "      <td>20</td>\n",
       "      <td>102</td>\n",
       "      <td>305</td>\n",
       "    </tr>\n",
       "    <tr>\n",
       "      <th>2</th>\n",
       "      <td>AM West</td>\n",
       "      <td>on time</td>\n",
       "      <td>694</td>\n",
       "      <td>4840</td>\n",
       "      <td>383</td>\n",
       "      <td>320</td>\n",
       "      <td>201</td>\n",
       "    </tr>\n",
       "    <tr>\n",
       "      <th>3</th>\n",
       "      <td>AM West</td>\n",
       "      <td>delayed</td>\n",
       "      <td>117</td>\n",
       "      <td>415</td>\n",
       "      <td>65</td>\n",
       "      <td>129</td>\n",
       "      <td>61</td>\n",
       "    </tr>\n",
       "  </tbody>\n",
       "</table>\n",
       "</div>"
      ],
      "text/plain": [
       "   Airline   Status  Los Angeles  Phoenix  San Diego  San Francisco  Seattle\n",
       "0   Alaska  on time          497      221        212            503     1841\n",
       "1   Alaska  delayed           62       12         20            102      305\n",
       "2  AM West  on time          694     4840        383            320      201\n",
       "3  AM West  delayed          117      415         65            129       61"
      ]
     },
     "execution_count": 4,
     "metadata": {},
     "output_type": "execute_result"
    }
   ],
   "source": [
    "import numpy as np\n",
    "import pandas as pd\n",
    "\n",
    "data = pd.read_csv(\"project1.csv\")\n",
    "data"
   ]
  },
  {
   "cell_type": "code",
   "execution_count": 7,
   "id": "74f4a94a",
   "metadata": {},
   "outputs": [
    {
     "data": {
      "text/html": [
       "<div>\n",
       "<style scoped>\n",
       "    .dataframe tbody tr th:only-of-type {\n",
       "        vertical-align: middle;\n",
       "    }\n",
       "\n",
       "    .dataframe tbody tr th {\n",
       "        vertical-align: top;\n",
       "    }\n",
       "\n",
       "    .dataframe thead th {\n",
       "        text-align: right;\n",
       "    }\n",
       "</style>\n",
       "<table border=\"1\" class=\"dataframe\">\n",
       "  <thead>\n",
       "    <tr style=\"text-align: right;\">\n",
       "      <th></th>\n",
       "      <th>Airline</th>\n",
       "      <th>Status</th>\n",
       "      <th>Los Angeles</th>\n",
       "      <th>Phoenix</th>\n",
       "      <th>San Diego</th>\n",
       "      <th>San Francisco</th>\n",
       "      <th>Seattle</th>\n",
       "      <th>Totals</th>\n",
       "    </tr>\n",
       "  </thead>\n",
       "  <tbody>\n",
       "    <tr>\n",
       "      <th>0</th>\n",
       "      <td>Alaska</td>\n",
       "      <td>on time</td>\n",
       "      <td>497</td>\n",
       "      <td>221</td>\n",
       "      <td>212</td>\n",
       "      <td>503</td>\n",
       "      <td>1841</td>\n",
       "      <td>3274</td>\n",
       "    </tr>\n",
       "    <tr>\n",
       "      <th>1</th>\n",
       "      <td>Alaska</td>\n",
       "      <td>delayed</td>\n",
       "      <td>62</td>\n",
       "      <td>12</td>\n",
       "      <td>20</td>\n",
       "      <td>102</td>\n",
       "      <td>305</td>\n",
       "      <td>501</td>\n",
       "    </tr>\n",
       "    <tr>\n",
       "      <th>2</th>\n",
       "      <td>AM West</td>\n",
       "      <td>on time</td>\n",
       "      <td>694</td>\n",
       "      <td>4840</td>\n",
       "      <td>383</td>\n",
       "      <td>320</td>\n",
       "      <td>201</td>\n",
       "      <td>6438</td>\n",
       "    </tr>\n",
       "    <tr>\n",
       "      <th>3</th>\n",
       "      <td>AM West</td>\n",
       "      <td>delayed</td>\n",
       "      <td>117</td>\n",
       "      <td>415</td>\n",
       "      <td>65</td>\n",
       "      <td>129</td>\n",
       "      <td>61</td>\n",
       "      <td>787</td>\n",
       "    </tr>\n",
       "  </tbody>\n",
       "</table>\n",
       "</div>"
      ],
      "text/plain": [
       "   Airline   Status  Los Angeles  Phoenix  San Diego  San Francisco  Seattle  \\\n",
       "0   Alaska  on time          497      221        212            503     1841   \n",
       "1   Alaska  delayed           62       12         20            102      305   \n",
       "2  AM West  on time          694     4840        383            320      201   \n",
       "3  AM West  delayed          117      415         65            129       61   \n",
       "\n",
       "   Totals  \n",
       "0    3274  \n",
       "1     501  \n",
       "2    6438  \n",
       "3     787  "
      ]
     },
     "execution_count": 7,
     "metadata": {},
     "output_type": "execute_result"
    }
   ],
   "source": [
    "data['Totals'] = (data['Los Angeles'] + data['Phoenix'] + data['San Diego'] + data['San Francisco'] + data['Seattle'])\n",
    "data"
   ]
  },
  {
   "cell_type": "code",
   "execution_count": 13,
   "id": "b631d39a",
   "metadata": {},
   "outputs": [
    {
     "name": "stdout",
     "output_type": "stream",
     "text": [
      "The total amount of flights Alaska airline had is = 3775\n",
      "Alaska airline in Los Angeles had a delay percentage of = 12.474849094567404%\n",
      "Alaska airline in Phoenix had a delay percentage of = 5.429864253393665%\n",
      "Alaska airline in San Diego had a delay percentage of = 9.433962264150944%\n",
      "Alaska airline in San Francisco had a delay percentage of = 20.278330019880716%\n",
      "Alaska airline in Seattle had a delay percentage of = 16.56708310700706%\n"
     ]
    }
   ],
   "source": [
    "Totals= (data['Totals'][0] + data['Totals'][1])\n",
    "DPercentLA= (data['Los Angeles'][1] / data['Los Angeles'][0]*100) \n",
    "DPercentPh= (data['Phoenix'][1] / data['Phoenix'][0]*100) \n",
    "DPercentSD= (data['San Diego'][1] / data['San Diego'][0]*100) \n",
    "DPercentSF= (data['San Francisco'][1] / data['San Francisco'][0]*100) \n",
    "DPercentSe= (data['Seattle'][1] / data['Seattle'][0]*100) \n",
    "print ('The total amount of flights Alaska airline had is = {}'.format(Totals))\n",
    "print ('Alaska airline in Los Angeles had a delay percentage of = {}%'.format(DPercentLA))\n",
    "print ('Alaska airline in Phoenix had a delay percentage of = {}%'.format(DPercentPh))\n",
    "print ('Alaska airline in San Diego had a delay percentage of = {}%'.format(DPercentSD))\n",
    "print ('Alaska airline in San Francisco had a delay percentage of = {}%'.format(DPercentSF))\n",
    "print ('Alaska airline in Seattle had a delay percentage of = {}%'.format(DPercentSe))"
   ]
  },
  {
   "cell_type": "code",
   "execution_count": 14,
   "id": "35ddbfb9",
   "metadata": {},
   "outputs": [
    {
     "name": "stdout",
     "output_type": "stream",
     "text": [
      "The total amount of flights AM West airline had is = 7225\n",
      "AM West airline in Los Angeles had a delay percentage of = 16.85878962536023%\n",
      "AM West airline in Phoenix had a delay percentage of = 8.574380165289258%\n",
      "AM West airline in San Diego had a delay percentage of = 16.971279373368144%\n",
      "AM West airline in San Francisco had a delay percentage of = 40.3125%\n",
      "AM West airline in Seattle had a delay percentage of = 30.34825870646766%\n"
     ]
    }
   ],
   "source": [
    "Totals= (data['Totals'][2] + data['Totals'][3])\n",
    "DPercentLA= (data['Los Angeles'][3] / data['Los Angeles'][2]*100) \n",
    "DPercentPh= (data['Phoenix'][3] / data['Phoenix'][2]*100) \n",
    "DPercentSD= (data['San Diego'][3] / data['San Diego'][2]*100) \n",
    "DPercentSF= (data['San Francisco'][3] / data['San Francisco'][2]*100) \n",
    "DPercentSe= (data['Seattle'][3] / data['Seattle'][2]*100) \n",
    "print ('The total amount of flights AM West airline had is = {}'.format(Totals))\n",
    "print ('AM West airline in Los Angeles had a delay percentage of = {}%'.format(DPercentLA))\n",
    "print ('AM West airline in Phoenix had a delay percentage of = {}%'.format(DPercentPh))\n",
    "print ('AM West airline in San Diego had a delay percentage of = {}%'.format(DPercentSD))\n",
    "print ('AM West airline in San Francisco had a delay percentage of = {}%'.format(DPercentSF))\n",
    "print ('AM West airline in Seattle had a delay percentage of = {}%'.format(DPercentSe))"
   ]
  },
  {
   "cell_type": "code",
   "execution_count": null,
   "id": "008b3548",
   "metadata": {},
   "outputs": [],
   "source": []
  }
 ],
 "metadata": {
  "kernelspec": {
   "display_name": "Python 3",
   "language": "python",
   "name": "python3"
  },
  "language_info": {
   "codemirror_mode": {
    "name": "ipython",
    "version": 3
   },
   "file_extension": ".py",
   "mimetype": "text/x-python",
   "name": "python",
   "nbconvert_exporter": "python",
   "pygments_lexer": "ipython3",
   "version": "3.8.10"
  }
 },
 "nbformat": 4,
 "nbformat_minor": 5
}
